{
 "cells": [
  {
   "cell_type": "code",
   "execution_count": 1,
   "metadata": {
    "collapsed": true,
    "jupyter": {
     "outputs_hidden": true
    }
   },
   "outputs": [],
   "source": [
    "from sklearn.datasets import load_digits\n",
    "from sklearn.model_selection import train_test_split\n",
    "from sklearn.preprocessing import OneHotEncoder\n",
    "from sklearn.utils import gen_batches\n",
    "from sklearn.metrics import f1_score\n",
    "\n",
    "import numpy as np\n",
    "from tensor import Tensor\n",
    "from activations_and_loss import sigmoid, cross_entropy_loss\n",
    "from modules import ModuleTrainer, Module, Linear\n",
    "from matplotlib import pyplot as plt"
   ]
  },
  {
   "cell_type": "markdown",
   "source": [
    "# Implementation details\n",
    "\n",
    "Location of main components\n",
    "- Tensor definitions in `tensor.py`\n",
    "- Op gradients in `backward_ops.py`\n",
    "- Backpropagation in `backprop.py`\n",
    "- Finite difference gradient estimation in `finite_diff.py`\n",
    "- Trainable modules, optimizer, and model trainer class in `modules.py`\n",
    "- Activations and cross entropy loss in `activations_and_loss.py`"
   ],
   "metadata": {
    "collapsed": false,
    "pycharm": {
     "name": "#%% md\n"
    }
   }
  },
  {
   "cell_type": "markdown",
   "metadata": {
    "pycharm": {
     "name": "#%% md\n"
    }
   },
   "source": [
    "## Prepare data\n",
    "\n",
    "Use digits dataset from sklearn, which contains 8x8 images of numbers. Preprocessing steps include\n",
    "1. Split into train and test\n",
    "2. Normalize features to range [0,1]\n",
    "3. One hot encoding for labels\n",
    "4. Preparing batches (no shuffling during training)"
   ]
  },
  {
   "cell_type": "code",
   "execution_count": 2,
   "metadata": {
    "collapsed": false,
    "jupyter": {
     "outputs_hidden": false
    },
    "pycharm": {
     "name": "#%%\n"
    }
   },
   "outputs": [],
   "source": [
    "data = load_digits()"
   ]
  },
  {
   "cell_type": "code",
   "execution_count": 3,
   "metadata": {
    "collapsed": false,
    "jupyter": {
     "outputs_hidden": false
    },
    "pycharm": {
     "name": "#%%\n"
    }
   },
   "outputs": [],
   "source": [
    "X_tr, X_te, Y_tr, Y_te = train_test_split(data[\"data\"], data[\"target\"], stratify=data[\"target\"])"
   ]
  },
  {
   "cell_type": "code",
   "execution_count": 4,
   "outputs": [],
   "source": [
    "X_tr = X_tr / X_tr.max()\n",
    "X_te = X_te / X_tr.max()"
   ],
   "metadata": {
    "collapsed": false,
    "pycharm": {
     "name": "#%%\n"
    }
   }
  },
  {
   "cell_type": "code",
   "execution_count": 5,
   "metadata": {
    "collapsed": false,
    "jupyter": {
     "outputs_hidden": false
    },
    "pycharm": {
     "name": "#%%\n"
    }
   },
   "outputs": [],
   "source": [
    "label_encoder = OneHotEncoder(sparse_output=False)\n",
    "Y_tr_onehot = label_encoder.fit_transform(Y_tr.reshape((-1,1)))\n",
    "Y_te_onehot = label_encoder.transform(Y_te.reshape((-1,1)))"
   ]
  },
  {
   "cell_type": "code",
   "execution_count": 6,
   "metadata": {
    "collapsed": false,
    "jupyter": {
     "outputs_hidden": false
    },
    "pycharm": {
     "name": "#%%\n"
    }
   },
   "outputs": [],
   "source": [
    "assert len(Y_tr_onehot) == len(X_tr)\n",
    "assert len(Y_te_onehot) == len(X_te)\n",
    "train_data = [\n",
    "    (X_tr[slice_], Y_tr_onehot[slice_]) for slice_ in gen_batches(len(X_tr), batch_size=64)\n",
    "]\n",
    "test_data = [\n",
    "    (X_te[slice_], Y_te_onehot[slice_]) for slice_ in gen_batches(len(X_te), batch_size=64)\n",
    "]"
   ]
  },
  {
   "cell_type": "markdown",
   "metadata": {
    "pycharm": {
     "name": "#%% md\n"
    }
   },
   "source": [
    "## Define model and trainer\n",
    "\n",
    "Define class `DigitsClassifier`\n",
    "1. Three FC layers and sigmoid activation between layers\n",
    "2. Hidden sizes are 40 and 20\n",
    "3. Trained with cross entropy loss\n",
    "\n",
    "Define `DigitsTrainer`\n"
   ]
  },
  {
   "cell_type": "code",
   "execution_count": 7,
   "metadata": {
    "collapsed": false,
    "jupyter": {
     "outputs_hidden": false
    },
    "pycharm": {
     "name": "#%%\n"
    }
   },
   "outputs": [],
   "source": [
    "class DigitsClassifier(Module):\n",
    "    def __init__(self, num_classes=10, *args, **kwargs):\n",
    "        super().__init__()\n",
    "\n",
    "        self.l1 = Linear(64, 40)\n",
    "        self.l2 = Linear(40, 20)\n",
    "        self.l3 = Linear(20, num_classes)\n",
    "\n",
    "    def __call__(self, x):\n",
    "        x = sigmoid(self.l1(x))\n",
    "        x = sigmoid(self.l2(x))\n",
    "        x = self.l3(x)\n",
    "        return x\n",
    "\n",
    "    def loss(self, logits, y_true):\n",
    "        loss = cross_entropy_loss(logits, y_true)\n",
    "        return loss.mean()\n",
    "\n",
    "    def score(self, logits, y_true):\n",
    "        y_pred = logits.argmax()\n",
    "        y_true = y_true.argmax()\n",
    "        return f1_score(y_true.data, y_pred.data, average=\"micro\")\n",
    "\n",
    "    def predict(self, x):\n",
    "        logits = self(x)\n",
    "        return logits.argmax()\n"
   ]
  },
  {
   "cell_type": "code",
   "execution_count": 8,
   "metadata": {
    "collapsed": false,
    "jupyter": {
     "outputs_hidden": false
    },
    "pycharm": {
     "name": "#%%\n"
    }
   },
   "outputs": [],
   "source": [
    "class DigitsTrainer(ModuleTrainer):\n",
    "    def __init__(self, *args, **kwargs):\n",
    "        super().__init__(*args, **kwargs)\n",
    "\n",
    "    def make_model(self):\n",
    "        self.model = DigitsClassifier()"
   ]
  },
  {
   "cell_type": "markdown",
   "source": [
    "## Training"
   ],
   "metadata": {
    "collapsed": false,
    "pycharm": {
     "name": "#%% md\n"
    }
   }
  },
  {
   "cell_type": "code",
   "execution_count": 9,
   "metadata": {
    "collapsed": false,
    "jupyter": {
     "outputs_hidden": false
    },
    "pycharm": {
     "name": "#%%\n"
    }
   },
   "outputs": [
    {
     "name": "stdout",
     "output_type": "stream",
     "text": [
      "Epoch 0, Train Loss: 6.4494, Train F1 Score: 0.1139, Test Loss: 6.1054, Test F1 Score: 0.0879\n",
      "Epoch 1, Train Loss: 6.3522, Train F1 Score: 0.1110, Test Loss: 5.9949, Test F1 Score: 0.1191\n",
      "Epoch 2, Train Loss: 6.3041, Train F1 Score: 0.1110, Test Loss: 5.9135, Test F1 Score: 0.1895\n",
      "Epoch 3, Train Loss: 6.2751, Train F1 Score: 0.1117, Test Loss: 5.8466, Test F1 Score: 0.3281\n",
      "Epoch 4, Train Loss: 6.2496, Train F1 Score: 0.1868, Test Loss: 5.7908, Test F1 Score: 0.5273\n",
      "Epoch 5, Train Loss: 6.2200, Train F1 Score: 0.2834, Test Loss: 5.7342, Test F1 Score: 0.5781\n",
      "Epoch 6, Train Loss: 6.1836, Train F1 Score: 0.4233, Test Loss: 5.6804, Test F1 Score: 0.5703\n",
      "Epoch 7, Train Loss: 6.1397, Train F1 Score: 0.5575, Test Loss: 5.6370, Test F1 Score: 0.5781\n",
      "Epoch 8, Train Loss: 6.0885, Train F1 Score: 0.6326, Test Loss: 5.5902, Test F1 Score: 0.5859\n",
      "Epoch 9, Train Loss: 6.0318, Train F1 Score: 0.6894, Test Loss: 5.5358, Test F1 Score: 0.6191\n",
      "Epoch 10, Train Loss: 5.9716, Train F1 Score: 0.7223, Test Loss: 5.4760, Test F1 Score: 0.6562\n",
      "Epoch 11, Train Loss: 5.9096, Train F1 Score: 0.7315, Test Loss: 5.4163, Test F1 Score: 0.6758\n",
      "Epoch 12, Train Loss: 5.8474, Train F1 Score: 0.7192, Test Loss: 5.3586, Test F1 Score: 0.6992\n",
      "Epoch 13, Train Loss: 5.7862, Train F1 Score: 0.7270, Test Loss: 5.3038, Test F1 Score: 0.7129\n",
      "Epoch 14, Train Loss: 5.7269, Train F1 Score: 0.7472, Test Loss: 5.2524, Test F1 Score: 0.7266\n",
      "Epoch 15, Train Loss: 5.6700, Train F1 Score: 0.7486, Test Loss: 5.2042, Test F1 Score: 0.7363\n",
      "Epoch 16, Train Loss: 5.6155, Train F1 Score: 0.7621, Test Loss: 5.1583, Test F1 Score: 0.7402\n",
      "Epoch 17, Train Loss: 5.5636, Train F1 Score: 0.7713, Test Loss: 5.1146, Test F1 Score: 0.7441\n",
      "Epoch 18, Train Loss: 5.5140, Train F1 Score: 0.7812, Test Loss: 5.0728, Test F1 Score: 0.7598\n",
      "Epoch 19, Train Loss: 5.4665, Train F1 Score: 0.7919, Test Loss: 5.0326, Test F1 Score: 0.7734\n",
      "Epoch 20, Train Loss: 5.4209, Train F1 Score: 0.7990, Test Loss: 4.9935, Test F1 Score: 0.7734\n",
      "Epoch 21, Train Loss: 5.3768, Train F1 Score: 0.8111, Test Loss: 4.9553, Test F1 Score: 0.7832\n",
      "Epoch 22, Train Loss: 5.3336, Train F1 Score: 0.8175, Test Loss: 4.9173, Test F1 Score: 0.7891\n",
      "Epoch 23, Train Loss: 5.2910, Train F1 Score: 0.8253, Test Loss: 4.8789, Test F1 Score: 0.8047\n",
      "Epoch 24, Train Loss: 5.2490, Train F1 Score: 0.8374, Test Loss: 4.8405, Test F1 Score: 0.8145\n",
      "Epoch 25, Train Loss: 5.2083, Train F1 Score: 0.8466, Test Loss: 4.8034, Test F1 Score: 0.8203\n",
      "Epoch 26, Train Loss: 5.1693, Train F1 Score: 0.8480, Test Loss: 4.7679, Test F1 Score: 0.8223\n",
      "Epoch 27, Train Loss: 5.1319, Train F1 Score: 0.8565, Test Loss: 4.7339, Test F1 Score: 0.8203\n",
      "Epoch 28, Train Loss: 5.0963, Train F1 Score: 0.8636, Test Loss: 4.7015, Test F1 Score: 0.8203\n",
      "Epoch 29, Train Loss: 5.0621, Train F1 Score: 0.8679, Test Loss: 4.6707, Test F1 Score: 0.8281\n",
      "Epoch 30, Train Loss: 5.0295, Train F1 Score: 0.8722, Test Loss: 4.6415, Test F1 Score: 0.8301\n",
      "Epoch 31, Train Loss: 4.9984, Train F1 Score: 0.8778, Test Loss: 4.6138, Test F1 Score: 0.8359\n",
      "Epoch 32, Train Loss: 4.9686, Train F1 Score: 0.8828, Test Loss: 4.5877, Test F1 Score: 0.8320\n",
      "Epoch 33, Train Loss: 4.9401, Train F1 Score: 0.8849, Test Loss: 4.5630, Test F1 Score: 0.8340\n",
      "Epoch 34, Train Loss: 4.9130, Train F1 Score: 0.8878, Test Loss: 4.5396, Test F1 Score: 0.8359\n",
      "Epoch 35, Train Loss: 4.8870, Train F1 Score: 0.8899, Test Loss: 4.5174, Test F1 Score: 0.8379\n",
      "Epoch 36, Train Loss: 4.8623, Train F1 Score: 0.8928, Test Loss: 4.4963, Test F1 Score: 0.8340\n",
      "Epoch 37, Train Loss: 4.8387, Train F1 Score: 0.8956, Test Loss: 4.4762, Test F1 Score: 0.8340\n",
      "Epoch 38, Train Loss: 4.8161, Train F1 Score: 0.8999, Test Loss: 4.4571, Test F1 Score: 0.8359\n",
      "Epoch 39, Train Loss: 4.7946, Train F1 Score: 0.9027, Test Loss: 4.4392, Test F1 Score: 0.8438\n",
      "Epoch 40, Train Loss: 4.7740, Train F1 Score: 0.9055, Test Loss: 4.4225, Test F1 Score: 0.8477\n",
      "Epoch 41, Train Loss: 4.7544, Train F1 Score: 0.9098, Test Loss: 4.4066, Test F1 Score: 0.8477\n",
      "Epoch 42, Train Loss: 4.7356, Train F1 Score: 0.9126, Test Loss: 4.3916, Test F1 Score: 0.8535\n",
      "Epoch 43, Train Loss: 4.7175, Train F1 Score: 0.9141, Test Loss: 4.3773, Test F1 Score: 0.8594\n",
      "Epoch 44, Train Loss: 4.7003, Train F1 Score: 0.9141, Test Loss: 4.3637, Test F1 Score: 0.8652\n",
      "Epoch 45, Train Loss: 4.6838, Train F1 Score: 0.9155, Test Loss: 4.3508, Test F1 Score: 0.8691\n",
      "Epoch 46, Train Loss: 4.6679, Train F1 Score: 0.9162, Test Loss: 4.3384, Test F1 Score: 0.8750\n",
      "Epoch 47, Train Loss: 4.6527, Train F1 Score: 0.9190, Test Loss: 4.3265, Test F1 Score: 0.8730\n",
      "Epoch 48, Train Loss: 4.6381, Train F1 Score: 0.9205, Test Loss: 4.3152, Test F1 Score: 0.8750\n",
      "Epoch 49, Train Loss: 4.6241, Train F1 Score: 0.9205, Test Loss: 4.3042, Test F1 Score: 0.8809\n",
      "Epoch 50, Train Loss: 4.6106, Train F1 Score: 0.9226, Test Loss: 4.2937, Test F1 Score: 0.8828\n",
      "Epoch 51, Train Loss: 4.5976, Train F1 Score: 0.9247, Test Loss: 4.2836, Test F1 Score: 0.8828\n",
      "Epoch 52, Train Loss: 4.5852, Train F1 Score: 0.9261, Test Loss: 4.2738, Test F1 Score: 0.8828\n",
      "Epoch 53, Train Loss: 4.5732, Train F1 Score: 0.9276, Test Loss: 4.2645, Test F1 Score: 0.8848\n",
      "Epoch 54, Train Loss: 4.5617, Train F1 Score: 0.9283, Test Loss: 4.2555, Test F1 Score: 0.8906\n",
      "Epoch 55, Train Loss: 4.5507, Train F1 Score: 0.9311, Test Loss: 4.2470, Test F1 Score: 0.8906\n",
      "Epoch 56, Train Loss: 4.5400, Train F1 Score: 0.9325, Test Loss: 4.2388, Test F1 Score: 0.8906\n",
      "Epoch 57, Train Loss: 4.5298, Train F1 Score: 0.9354, Test Loss: 4.2310, Test F1 Score: 0.9004\n",
      "Epoch 58, Train Loss: 4.5199, Train F1 Score: 0.9368, Test Loss: 4.2235, Test F1 Score: 0.9043\n",
      "Epoch 59, Train Loss: 4.5104, Train F1 Score: 0.9382, Test Loss: 4.2164, Test F1 Score: 0.9043\n",
      "Epoch 60, Train Loss: 4.5013, Train F1 Score: 0.9418, Test Loss: 4.2097, Test F1 Score: 0.9023\n",
      "Epoch 61, Train Loss: 4.4925, Train F1 Score: 0.9439, Test Loss: 4.2035, Test F1 Score: 0.9062\n",
      "Epoch 62, Train Loss: 4.4840, Train F1 Score: 0.9439, Test Loss: 4.1976, Test F1 Score: 0.9102\n",
      "Epoch 63, Train Loss: 4.4758, Train F1 Score: 0.9453, Test Loss: 4.1921, Test F1 Score: 0.9102\n",
      "Epoch 64, Train Loss: 4.4679, Train F1 Score: 0.9460, Test Loss: 4.1868, Test F1 Score: 0.9082\n",
      "Epoch 65, Train Loss: 4.4602, Train F1 Score: 0.9467, Test Loss: 4.1818, Test F1 Score: 0.9082\n",
      "Epoch 66, Train Loss: 4.4529, Train F1 Score: 0.9474, Test Loss: 4.1768, Test F1 Score: 0.9121\n",
      "Epoch 67, Train Loss: 4.4457, Train F1 Score: 0.9496, Test Loss: 4.1720, Test F1 Score: 0.9121\n",
      "Epoch 68, Train Loss: 4.4389, Train F1 Score: 0.9496, Test Loss: 4.1671, Test F1 Score: 0.9121\n",
      "Epoch 69, Train Loss: 4.4322, Train F1 Score: 0.9496, Test Loss: 4.1623, Test F1 Score: 0.9121\n",
      "Epoch 70, Train Loss: 4.4258, Train F1 Score: 0.9510, Test Loss: 4.1575, Test F1 Score: 0.9160\n",
      "Epoch 71, Train Loss: 4.4195, Train F1 Score: 0.9524, Test Loss: 4.1527, Test F1 Score: 0.9160\n",
      "Epoch 72, Train Loss: 4.4135, Train F1 Score: 0.9531, Test Loss: 4.1479, Test F1 Score: 0.9180\n",
      "Epoch 73, Train Loss: 4.4077, Train F1 Score: 0.9538, Test Loss: 4.1432, Test F1 Score: 0.9199\n",
      "Epoch 74, Train Loss: 4.4020, Train F1 Score: 0.9538, Test Loss: 4.1386, Test F1 Score: 0.9219\n",
      "Epoch 75, Train Loss: 4.3965, Train F1 Score: 0.9545, Test Loss: 4.1341, Test F1 Score: 0.9219\n",
      "Epoch 76, Train Loss: 4.3912, Train F1 Score: 0.9567, Test Loss: 4.1299, Test F1 Score: 0.9258\n",
      "Epoch 77, Train Loss: 4.3860, Train F1 Score: 0.9567, Test Loss: 4.1259, Test F1 Score: 0.9277\n",
      "Epoch 78, Train Loss: 4.3810, Train F1 Score: 0.9567, Test Loss: 4.1220, Test F1 Score: 0.9277\n",
      "Epoch 79, Train Loss: 4.3762, Train F1 Score: 0.9574, Test Loss: 4.1184, Test F1 Score: 0.9277\n",
      "Epoch 80, Train Loss: 4.3715, Train F1 Score: 0.9574, Test Loss: 4.1150, Test F1 Score: 0.9277\n",
      "Epoch 81, Train Loss: 4.3669, Train F1 Score: 0.9588, Test Loss: 4.1117, Test F1 Score: 0.9258\n",
      "Epoch 82, Train Loss: 4.3625, Train F1 Score: 0.9588, Test Loss: 4.1087, Test F1 Score: 0.9258\n",
      "Epoch 83, Train Loss: 4.3582, Train F1 Score: 0.9588, Test Loss: 4.1058, Test F1 Score: 0.9316\n",
      "Epoch 84, Train Loss: 4.3540, Train F1 Score: 0.9595, Test Loss: 4.1030, Test F1 Score: 0.9375\n",
      "Epoch 85, Train Loss: 4.3500, Train F1 Score: 0.9595, Test Loss: 4.1004, Test F1 Score: 0.9395\n",
      "Epoch 86, Train Loss: 4.3460, Train F1 Score: 0.9609, Test Loss: 4.0979, Test F1 Score: 0.9395\n",
      "Epoch 87, Train Loss: 4.3422, Train F1 Score: 0.9638, Test Loss: 4.0955, Test F1 Score: 0.9395\n",
      "Epoch 88, Train Loss: 4.3384, Train F1 Score: 0.9645, Test Loss: 4.0932, Test F1 Score: 0.9355\n",
      "Epoch 89, Train Loss: 4.3348, Train F1 Score: 0.9652, Test Loss: 4.0911, Test F1 Score: 0.9355\n",
      "Epoch 90, Train Loss: 4.3313, Train F1 Score: 0.9673, Test Loss: 4.0890, Test F1 Score: 0.9355\n",
      "Epoch 91, Train Loss: 4.3278, Train F1 Score: 0.9673, Test Loss: 4.0870, Test F1 Score: 0.9355\n",
      "Epoch 92, Train Loss: 4.3245, Train F1 Score: 0.9695, Test Loss: 4.0852, Test F1 Score: 0.9336\n",
      "Epoch 93, Train Loss: 4.3212, Train F1 Score: 0.9695, Test Loss: 4.0834, Test F1 Score: 0.9336\n",
      "Epoch 94, Train Loss: 4.3180, Train F1 Score: 0.9695, Test Loss: 4.0817, Test F1 Score: 0.9355\n",
      "Epoch 95, Train Loss: 4.3149, Train F1 Score: 0.9709, Test Loss: 4.0800, Test F1 Score: 0.9355\n",
      "Epoch 96, Train Loss: 4.3118, Train F1 Score: 0.9709, Test Loss: 4.0784, Test F1 Score: 0.9336\n",
      "Epoch 97, Train Loss: 4.3089, Train F1 Score: 0.9723, Test Loss: 4.0769, Test F1 Score: 0.9316\n",
      "Epoch 98, Train Loss: 4.3060, Train F1 Score: 0.9737, Test Loss: 4.0754, Test F1 Score: 0.9316\n",
      "Epoch 99, Train Loss: 4.3031, Train F1 Score: 0.9737, Test Loss: 4.0740, Test F1 Score: 0.9316\n",
      "Epoch 100, Train Loss: 4.3003, Train F1 Score: 0.9744, Test Loss: 4.0726, Test F1 Score: 0.9316\n",
      "Epoch 101, Train Loss: 4.2976, Train F1 Score: 0.9751, Test Loss: 4.0712, Test F1 Score: 0.9316\n",
      "Epoch 102, Train Loss: 4.2950, Train F1 Score: 0.9759, Test Loss: 4.0698, Test F1 Score: 0.9297\n",
      "Epoch 103, Train Loss: 4.2924, Train F1 Score: 0.9759, Test Loss: 4.0685, Test F1 Score: 0.9297\n",
      "Epoch 104, Train Loss: 4.2898, Train F1 Score: 0.9766, Test Loss: 4.0672, Test F1 Score: 0.9297\n",
      "Epoch 105, Train Loss: 4.2873, Train F1 Score: 0.9766, Test Loss: 4.0660, Test F1 Score: 0.9316\n",
      "Epoch 106, Train Loss: 4.2848, Train F1 Score: 0.9766, Test Loss: 4.0647, Test F1 Score: 0.9316\n",
      "Epoch 107, Train Loss: 4.2824, Train F1 Score: 0.9766, Test Loss: 4.0635, Test F1 Score: 0.9297\n",
      "Epoch 108, Train Loss: 4.2801, Train F1 Score: 0.9766, Test Loss: 4.0622, Test F1 Score: 0.9297\n",
      "Epoch 109, Train Loss: 4.2777, Train F1 Score: 0.9766, Test Loss: 4.0610, Test F1 Score: 0.9297\n",
      "Epoch 110, Train Loss: 4.2755, Train F1 Score: 0.9766, Test Loss: 4.0597, Test F1 Score: 0.9297\n",
      "Epoch 111, Train Loss: 4.2732, Train F1 Score: 0.9773, Test Loss: 4.0585, Test F1 Score: 0.9297\n",
      "Epoch 112, Train Loss: 4.2710, Train F1 Score: 0.9773, Test Loss: 4.0572, Test F1 Score: 0.9277\n",
      "Epoch 113, Train Loss: 4.2688, Train F1 Score: 0.9773, Test Loss: 4.0559, Test F1 Score: 0.9277\n",
      "Epoch 114, Train Loss: 4.2667, Train F1 Score: 0.9787, Test Loss: 4.0546, Test F1 Score: 0.9277\n",
      "Epoch 115, Train Loss: 4.2646, Train F1 Score: 0.9787, Test Loss: 4.0533, Test F1 Score: 0.9297\n",
      "Epoch 116, Train Loss: 4.2625, Train F1 Score: 0.9787, Test Loss: 4.0520, Test F1 Score: 0.9297\n",
      "Epoch 117, Train Loss: 4.2605, Train F1 Score: 0.9794, Test Loss: 4.0506, Test F1 Score: 0.9297\n",
      "Epoch 118, Train Loss: 4.2585, Train F1 Score: 0.9801, Test Loss: 4.0493, Test F1 Score: 0.9297\n",
      "Epoch 119, Train Loss: 4.2565, Train F1 Score: 0.9801, Test Loss: 4.0479, Test F1 Score: 0.9316\n",
      "Epoch 120, Train Loss: 4.2546, Train F1 Score: 0.9801, Test Loss: 4.0466, Test F1 Score: 0.9316\n",
      "Epoch 121, Train Loss: 4.2526, Train F1 Score: 0.9801, Test Loss: 4.0452, Test F1 Score: 0.9316\n",
      "Epoch 122, Train Loss: 4.2507, Train F1 Score: 0.9808, Test Loss: 4.0439, Test F1 Score: 0.9336\n",
      "Epoch 123, Train Loss: 4.2489, Train F1 Score: 0.9808, Test Loss: 4.0425, Test F1 Score: 0.9336\n",
      "Epoch 124, Train Loss: 4.2470, Train F1 Score: 0.9808, Test Loss: 4.0412, Test F1 Score: 0.9336\n",
      "Epoch 125, Train Loss: 4.2452, Train F1 Score: 0.9808, Test Loss: 4.0398, Test F1 Score: 0.9336\n",
      "Epoch 126, Train Loss: 4.2434, Train F1 Score: 0.9815, Test Loss: 4.0385, Test F1 Score: 0.9336\n",
      "Epoch 127, Train Loss: 4.2416, Train F1 Score: 0.9815, Test Loss: 4.0372, Test F1 Score: 0.9355\n",
      "Epoch 128, Train Loss: 4.2399, Train F1 Score: 0.9815, Test Loss: 4.0359, Test F1 Score: 0.9355\n",
      "Epoch 129, Train Loss: 4.2382, Train F1 Score: 0.9815, Test Loss: 4.0346, Test F1 Score: 0.9395\n",
      "Epoch 130, Train Loss: 4.2364, Train F1 Score: 0.9822, Test Loss: 4.0333, Test F1 Score: 0.9395\n",
      "Epoch 131, Train Loss: 4.2347, Train F1 Score: 0.9830, Test Loss: 4.0320, Test F1 Score: 0.9395\n",
      "Epoch 132, Train Loss: 4.2331, Train F1 Score: 0.9830, Test Loss: 4.0307, Test F1 Score: 0.9434\n",
      "Epoch 133, Train Loss: 4.2314, Train F1 Score: 0.9830, Test Loss: 4.0294, Test F1 Score: 0.9434\n",
      "Epoch 134, Train Loss: 4.2298, Train F1 Score: 0.9830, Test Loss: 4.0281, Test F1 Score: 0.9453\n",
      "Epoch 135, Train Loss: 4.2282, Train F1 Score: 0.9830, Test Loss: 4.0268, Test F1 Score: 0.9453\n",
      "Epoch 136, Train Loss: 4.2266, Train F1 Score: 0.9830, Test Loss: 4.0255, Test F1 Score: 0.9453\n",
      "Epoch 137, Train Loss: 4.2250, Train F1 Score: 0.9837, Test Loss: 4.0241, Test F1 Score: 0.9453\n",
      "Epoch 138, Train Loss: 4.2234, Train F1 Score: 0.9837, Test Loss: 4.0228, Test F1 Score: 0.9453\n",
      "Epoch 139, Train Loss: 4.2219, Train F1 Score: 0.9837, Test Loss: 4.0214, Test F1 Score: 0.9453\n",
      "Epoch 140, Train Loss: 4.2203, Train F1 Score: 0.9837, Test Loss: 4.0200, Test F1 Score: 0.9453\n",
      "Epoch 141, Train Loss: 4.2188, Train F1 Score: 0.9837, Test Loss: 4.0186, Test F1 Score: 0.9453\n",
      "Epoch 142, Train Loss: 4.2173, Train F1 Score: 0.9837, Test Loss: 4.0171, Test F1 Score: 0.9453\n",
      "Epoch 143, Train Loss: 4.2158, Train F1 Score: 0.9837, Test Loss: 4.0156, Test F1 Score: 0.9453\n",
      "Epoch 144, Train Loss: 4.2144, Train F1 Score: 0.9837, Test Loss: 4.0142, Test F1 Score: 0.9453\n",
      "Epoch 145, Train Loss: 4.2129, Train F1 Score: 0.9844, Test Loss: 4.0127, Test F1 Score: 0.9453\n",
      "Epoch 146, Train Loss: 4.2115, Train F1 Score: 0.9851, Test Loss: 4.0112, Test F1 Score: 0.9453\n",
      "Epoch 147, Train Loss: 4.2100, Train F1 Score: 0.9858, Test Loss: 4.0098, Test F1 Score: 0.9453\n",
      "Epoch 148, Train Loss: 4.2086, Train F1 Score: 0.9865, Test Loss: 4.0084, Test F1 Score: 0.9492\n",
      "Epoch 149, Train Loss: 4.2072, Train F1 Score: 0.9865, Test Loss: 4.0071, Test F1 Score: 0.9492\n",
      "Epoch 150, Train Loss: 4.2058, Train F1 Score: 0.9865, Test Loss: 4.0057, Test F1 Score: 0.9492\n",
      "Epoch 151, Train Loss: 4.2044, Train F1 Score: 0.9865, Test Loss: 4.0044, Test F1 Score: 0.9492\n",
      "Epoch 152, Train Loss: 4.2031, Train F1 Score: 0.9865, Test Loss: 4.0031, Test F1 Score: 0.9492\n",
      "Epoch 153, Train Loss: 4.2017, Train F1 Score: 0.9865, Test Loss: 4.0018, Test F1 Score: 0.9492\n",
      "Epoch 154, Train Loss: 4.2004, Train F1 Score: 0.9865, Test Loss: 4.0006, Test F1 Score: 0.9531\n",
      "Epoch 155, Train Loss: 4.1990, Train F1 Score: 0.9865, Test Loss: 3.9993, Test F1 Score: 0.9531\n",
      "Epoch 156, Train Loss: 4.1977, Train F1 Score: 0.9865, Test Loss: 3.9980, Test F1 Score: 0.9531\n",
      "Epoch 157, Train Loss: 4.1964, Train F1 Score: 0.9865, Test Loss: 3.9968, Test F1 Score: 0.9531\n",
      "Epoch 158, Train Loss: 4.1951, Train F1 Score: 0.9872, Test Loss: 3.9955, Test F1 Score: 0.9531\n",
      "Epoch 159, Train Loss: 4.1938, Train F1 Score: 0.9872, Test Loss: 3.9943, Test F1 Score: 0.9531\n",
      "Epoch 160, Train Loss: 4.1925, Train F1 Score: 0.9872, Test Loss: 3.9930, Test F1 Score: 0.9531\n",
      "Epoch 161, Train Loss: 4.1913, Train F1 Score: 0.9872, Test Loss: 3.9917, Test F1 Score: 0.9531\n",
      "Epoch 162, Train Loss: 4.1900, Train F1 Score: 0.9872, Test Loss: 3.9905, Test F1 Score: 0.9531\n",
      "Epoch 163, Train Loss: 4.1888, Train F1 Score: 0.9879, Test Loss: 3.9892, Test F1 Score: 0.9570\n",
      "Epoch 164, Train Loss: 4.1875, Train F1 Score: 0.9879, Test Loss: 3.9880, Test F1 Score: 0.9570\n",
      "Epoch 165, Train Loss: 4.1863, Train F1 Score: 0.9879, Test Loss: 3.9868, Test F1 Score: 0.9570\n",
      "Epoch 166, Train Loss: 4.1851, Train F1 Score: 0.9879, Test Loss: 3.9855, Test F1 Score: 0.9590\n",
      "Epoch 167, Train Loss: 4.1839, Train F1 Score: 0.9879, Test Loss: 3.9843, Test F1 Score: 0.9570\n",
      "Epoch 168, Train Loss: 4.1827, Train F1 Score: 0.9879, Test Loss: 3.9831, Test F1 Score: 0.9590\n",
      "Epoch 169, Train Loss: 4.1815, Train F1 Score: 0.9879, Test Loss: 3.9819, Test F1 Score: 0.9590\n",
      "Epoch 170, Train Loss: 4.1803, Train F1 Score: 0.9886, Test Loss: 3.9807, Test F1 Score: 0.9590\n",
      "Epoch 171, Train Loss: 4.1792, Train F1 Score: 0.9886, Test Loss: 3.9795, Test F1 Score: 0.9570\n",
      "Epoch 172, Train Loss: 4.1780, Train F1 Score: 0.9886, Test Loss: 3.9783, Test F1 Score: 0.9570\n",
      "Epoch 173, Train Loss: 4.1768, Train F1 Score: 0.9886, Test Loss: 3.9772, Test F1 Score: 0.9570\n",
      "Epoch 174, Train Loss: 4.1757, Train F1 Score: 0.9886, Test Loss: 3.9760, Test F1 Score: 0.9551\n",
      "Epoch 175, Train Loss: 4.1746, Train F1 Score: 0.9893, Test Loss: 3.9748, Test F1 Score: 0.9570\n",
      "Epoch 176, Train Loss: 4.1734, Train F1 Score: 0.9893, Test Loss: 3.9736, Test F1 Score: 0.9570\n",
      "Epoch 177, Train Loss: 4.1723, Train F1 Score: 0.9893, Test Loss: 3.9724, Test F1 Score: 0.9570\n",
      "Epoch 178, Train Loss: 4.1712, Train F1 Score: 0.9893, Test Loss: 3.9712, Test F1 Score: 0.9570\n",
      "Epoch 179, Train Loss: 4.1701, Train F1 Score: 0.9893, Test Loss: 3.9700, Test F1 Score: 0.9570\n",
      "Epoch 180, Train Loss: 4.1690, Train F1 Score: 0.9893, Test Loss: 3.9689, Test F1 Score: 0.9590\n",
      "Epoch 181, Train Loss: 4.1679, Train F1 Score: 0.9893, Test Loss: 3.9677, Test F1 Score: 0.9590\n",
      "Epoch 182, Train Loss: 4.1669, Train F1 Score: 0.9893, Test Loss: 3.9666, Test F1 Score: 0.9590\n",
      "Epoch 183, Train Loss: 4.1658, Train F1 Score: 0.9893, Test Loss: 3.9654, Test F1 Score: 0.9590\n",
      "Epoch 184, Train Loss: 4.1647, Train F1 Score: 0.9893, Test Loss: 3.9643, Test F1 Score: 0.9590\n",
      "Epoch 185, Train Loss: 4.1637, Train F1 Score: 0.9893, Test Loss: 3.9631, Test F1 Score: 0.9609\n",
      "Epoch 186, Train Loss: 4.1627, Train F1 Score: 0.9901, Test Loss: 3.9620, Test F1 Score: 0.9609\n",
      "Epoch 187, Train Loss: 4.1616, Train F1 Score: 0.9901, Test Loss: 3.9608, Test F1 Score: 0.9629\n",
      "Epoch 188, Train Loss: 4.1606, Train F1 Score: 0.9901, Test Loss: 3.9596, Test F1 Score: 0.9629\n",
      "Epoch 189, Train Loss: 4.1596, Train F1 Score: 0.9901, Test Loss: 3.9585, Test F1 Score: 0.9629\n",
      "Epoch 190, Train Loss: 4.1586, Train F1 Score: 0.9901, Test Loss: 3.9573, Test F1 Score: 0.9648\n",
      "Epoch 191, Train Loss: 4.1576, Train F1 Score: 0.9901, Test Loss: 3.9561, Test F1 Score: 0.9629\n",
      "Epoch 192, Train Loss: 4.1566, Train F1 Score: 0.9901, Test Loss: 3.9550, Test F1 Score: 0.9629\n",
      "Epoch 193, Train Loss: 4.1556, Train F1 Score: 0.9908, Test Loss: 3.9538, Test F1 Score: 0.9629\n",
      "Epoch 194, Train Loss: 4.1546, Train F1 Score: 0.9908, Test Loss: 3.9527, Test F1 Score: 0.9629\n",
      "Epoch 195, Train Loss: 4.1536, Train F1 Score: 0.9915, Test Loss: 3.9515, Test F1 Score: 0.9629\n",
      "Epoch 196, Train Loss: 4.1527, Train F1 Score: 0.9915, Test Loss: 3.9504, Test F1 Score: 0.9629\n",
      "Epoch 197, Train Loss: 4.1517, Train F1 Score: 0.9915, Test Loss: 3.9493, Test F1 Score: 0.9629\n",
      "Epoch 198, Train Loss: 4.1508, Train F1 Score: 0.9915, Test Loss: 3.9482, Test F1 Score: 0.9648\n",
      "Epoch 199, Train Loss: 4.1498, Train F1 Score: 0.9915, Test Loss: 3.9472, Test F1 Score: 0.9629\n",
      "Epoch 200, Train Loss: 4.1489, Train F1 Score: 0.9915, Test Loss: 3.9461, Test F1 Score: 0.9629\n",
      "Epoch 201, Train Loss: 4.1479, Train F1 Score: 0.9915, Test Loss: 3.9450, Test F1 Score: 0.9629\n",
      "Epoch 202, Train Loss: 4.1470, Train F1 Score: 0.9915, Test Loss: 3.9440, Test F1 Score: 0.9629\n",
      "Epoch 203, Train Loss: 4.1461, Train F1 Score: 0.9922, Test Loss: 3.9430, Test F1 Score: 0.9629\n",
      "Epoch 204, Train Loss: 4.1452, Train F1 Score: 0.9922, Test Loss: 3.9420, Test F1 Score: 0.9609\n",
      "Epoch 205, Train Loss: 4.1443, Train F1 Score: 0.9922, Test Loss: 3.9410, Test F1 Score: 0.9609\n",
      "Epoch 206, Train Loss: 4.1434, Train F1 Score: 0.9922, Test Loss: 3.9401, Test F1 Score: 0.9609\n",
      "Epoch 207, Train Loss: 4.1425, Train F1 Score: 0.9922, Test Loss: 3.9391, Test F1 Score: 0.9609\n",
      "Epoch 208, Train Loss: 4.1416, Train F1 Score: 0.9922, Test Loss: 3.9382, Test F1 Score: 0.9609\n",
      "Epoch 209, Train Loss: 4.1407, Train F1 Score: 0.9922, Test Loss: 3.9373, Test F1 Score: 0.9609\n",
      "Epoch 210, Train Loss: 4.1399, Train F1 Score: 0.9922, Test Loss: 3.9364, Test F1 Score: 0.9609\n",
      "Epoch 211, Train Loss: 4.1390, Train F1 Score: 0.9922, Test Loss: 3.9356, Test F1 Score: 0.9609\n",
      "Epoch 212, Train Loss: 4.1382, Train F1 Score: 0.9922, Test Loss: 3.9347, Test F1 Score: 0.9609\n",
      "Epoch 213, Train Loss: 4.1373, Train F1 Score: 0.9929, Test Loss: 3.9339, Test F1 Score: 0.9609\n",
      "Epoch 214, Train Loss: 4.1365, Train F1 Score: 0.9929, Test Loss: 3.9331, Test F1 Score: 0.9609\n",
      "Epoch 215, Train Loss: 4.1356, Train F1 Score: 0.9929, Test Loss: 3.9323, Test F1 Score: 0.9629\n",
      "Epoch 216, Train Loss: 4.1348, Train F1 Score: 0.9929, Test Loss: 3.9315, Test F1 Score: 0.9629\n",
      "Epoch 217, Train Loss: 4.1340, Train F1 Score: 0.9929, Test Loss: 3.9308, Test F1 Score: 0.9629\n",
      "Epoch 218, Train Loss: 4.1332, Train F1 Score: 0.9929, Test Loss: 3.9301, Test F1 Score: 0.9648\n",
      "Epoch 219, Train Loss: 4.1323, Train F1 Score: 0.9929, Test Loss: 3.9293, Test F1 Score: 0.9648\n",
      "Epoch 220, Train Loss: 4.1315, Train F1 Score: 0.9929, Test Loss: 3.9286, Test F1 Score: 0.9648\n",
      "Epoch 221, Train Loss: 4.1307, Train F1 Score: 0.9936, Test Loss: 3.9279, Test F1 Score: 0.9648\n",
      "Epoch 222, Train Loss: 4.1299, Train F1 Score: 0.9936, Test Loss: 3.9272, Test F1 Score: 0.9668\n",
      "Epoch 223, Train Loss: 4.1291, Train F1 Score: 0.9936, Test Loss: 3.9265, Test F1 Score: 0.9688\n",
      "Epoch 224, Train Loss: 4.1284, Train F1 Score: 0.9936, Test Loss: 3.9259, Test F1 Score: 0.9688\n",
      "Epoch 225, Train Loss: 4.1276, Train F1 Score: 0.9936, Test Loss: 3.9252, Test F1 Score: 0.9688\n",
      "Epoch 226, Train Loss: 4.1268, Train F1 Score: 0.9936, Test Loss: 3.9245, Test F1 Score: 0.9688\n",
      "Epoch 227, Train Loss: 4.1260, Train F1 Score: 0.9936, Test Loss: 3.9239, Test F1 Score: 0.9688\n",
      "Epoch 228, Train Loss: 4.1253, Train F1 Score: 0.9936, Test Loss: 3.9233, Test F1 Score: 0.9707\n",
      "Epoch 229, Train Loss: 4.1245, Train F1 Score: 0.9936, Test Loss: 3.9226, Test F1 Score: 0.9707\n",
      "Epoch 230, Train Loss: 4.1238, Train F1 Score: 0.9936, Test Loss: 3.9220, Test F1 Score: 0.9707\n",
      "Epoch 231, Train Loss: 4.1230, Train F1 Score: 0.9936, Test Loss: 3.9214, Test F1 Score: 0.9707\n",
      "Epoch 232, Train Loss: 4.1223, Train F1 Score: 0.9936, Test Loss: 3.9208, Test F1 Score: 0.9707\n",
      "Epoch 233, Train Loss: 4.1216, Train F1 Score: 0.9943, Test Loss: 3.9202, Test F1 Score: 0.9727\n",
      "Epoch 234, Train Loss: 4.1208, Train F1 Score: 0.9943, Test Loss: 3.9196, Test F1 Score: 0.9707\n",
      "Epoch 235, Train Loss: 4.1201, Train F1 Score: 0.9943, Test Loss: 3.9191, Test F1 Score: 0.9707\n",
      "Epoch 236, Train Loss: 4.1194, Train F1 Score: 0.9943, Test Loss: 3.9185, Test F1 Score: 0.9707\n",
      "Epoch 237, Train Loss: 4.1187, Train F1 Score: 0.9943, Test Loss: 3.9180, Test F1 Score: 0.9707\n",
      "Epoch 238, Train Loss: 4.1180, Train F1 Score: 0.9943, Test Loss: 3.9175, Test F1 Score: 0.9707\n",
      "Epoch 239, Train Loss: 4.1173, Train F1 Score: 0.9943, Test Loss: 3.9170, Test F1 Score: 0.9707\n",
      "Epoch 240, Train Loss: 4.1166, Train F1 Score: 0.9943, Test Loss: 3.9165, Test F1 Score: 0.9707\n",
      "Epoch 241, Train Loss: 4.1159, Train F1 Score: 0.9943, Test Loss: 3.9160, Test F1 Score: 0.9707\n",
      "Epoch 242, Train Loss: 4.1152, Train F1 Score: 0.9943, Test Loss: 3.9155, Test F1 Score: 0.9707\n",
      "Epoch 243, Train Loss: 4.1145, Train F1 Score: 0.9943, Test Loss: 3.9151, Test F1 Score: 0.9707\n",
      "Epoch 244, Train Loss: 4.1138, Train F1 Score: 0.9943, Test Loss: 3.9147, Test F1 Score: 0.9707\n",
      "Epoch 245, Train Loss: 4.1132, Train F1 Score: 0.9943, Test Loss: 3.9143, Test F1 Score: 0.9688\n",
      "Epoch 246, Train Loss: 4.1125, Train F1 Score: 0.9943, Test Loss: 3.9139, Test F1 Score: 0.9688\n",
      "Epoch 247, Train Loss: 4.1118, Train F1 Score: 0.9943, Test Loss: 3.9135, Test F1 Score: 0.9688\n",
      "Epoch 248, Train Loss: 4.1112, Train F1 Score: 0.9943, Test Loss: 3.9132, Test F1 Score: 0.9688\n",
      "Epoch 249, Train Loss: 4.1105, Train F1 Score: 0.9943, Test Loss: 3.9129, Test F1 Score: 0.9688\n",
      "Epoch 250, Train Loss: 4.1099, Train F1 Score: 0.9943, Test Loss: 3.9125, Test F1 Score: 0.9688\n",
      "Epoch 251, Train Loss: 4.1093, Train F1 Score: 0.9943, Test Loss: 3.9122, Test F1 Score: 0.9668\n",
      "Epoch 252, Train Loss: 4.1086, Train F1 Score: 0.9943, Test Loss: 3.9120, Test F1 Score: 0.9668\n",
      "Epoch 253, Train Loss: 4.1080, Train F1 Score: 0.9943, Test Loss: 3.9117, Test F1 Score: 0.9668\n",
      "Epoch 254, Train Loss: 4.1074, Train F1 Score: 0.9943, Test Loss: 3.9114, Test F1 Score: 0.9668\n",
      "Epoch 255, Train Loss: 4.1067, Train F1 Score: 0.9943, Test Loss: 3.9111, Test F1 Score: 0.9668\n",
      "Epoch 256, Train Loss: 4.1061, Train F1 Score: 0.9943, Test Loss: 3.9109, Test F1 Score: 0.9668\n",
      "Epoch 257, Train Loss: 4.1055, Train F1 Score: 0.9943, Test Loss: 3.9106, Test F1 Score: 0.9668\n",
      "Epoch 258, Train Loss: 4.1049, Train F1 Score: 0.9943, Test Loss: 3.9104, Test F1 Score: 0.9668\n",
      "Epoch 259, Train Loss: 4.1043, Train F1 Score: 0.9943, Test Loss: 3.9101, Test F1 Score: 0.9648\n",
      "Epoch 260, Train Loss: 4.1037, Train F1 Score: 0.9950, Test Loss: 3.9099, Test F1 Score: 0.9648\n",
      "Epoch 261, Train Loss: 4.1031, Train F1 Score: 0.9957, Test Loss: 3.9097, Test F1 Score: 0.9648\n",
      "Epoch 262, Train Loss: 4.1025, Train F1 Score: 0.9957, Test Loss: 3.9094, Test F1 Score: 0.9648\n",
      "Epoch 263, Train Loss: 4.1019, Train F1 Score: 0.9957, Test Loss: 3.9092, Test F1 Score: 0.9648\n",
      "Epoch 264, Train Loss: 4.1013, Train F1 Score: 0.9957, Test Loss: 3.9089, Test F1 Score: 0.9648\n",
      "Epoch 265, Train Loss: 4.1007, Train F1 Score: 0.9957, Test Loss: 3.9087, Test F1 Score: 0.9648\n",
      "Epoch 266, Train Loss: 4.1001, Train F1 Score: 0.9957, Test Loss: 3.9085, Test F1 Score: 0.9648\n",
      "Epoch 267, Train Loss: 4.0996, Train F1 Score: 0.9957, Test Loss: 3.9082, Test F1 Score: 0.9648\n",
      "Epoch 268, Train Loss: 4.0990, Train F1 Score: 0.9957, Test Loss: 3.9080, Test F1 Score: 0.9648\n",
      "Epoch 269, Train Loss: 4.0984, Train F1 Score: 0.9957, Test Loss: 3.9077, Test F1 Score: 0.9648\n",
      "Epoch 270, Train Loss: 4.0979, Train F1 Score: 0.9957, Test Loss: 3.9075, Test F1 Score: 0.9648\n",
      "Epoch 271, Train Loss: 4.0973, Train F1 Score: 0.9957, Test Loss: 3.9073, Test F1 Score: 0.9648\n",
      "Epoch 272, Train Loss: 4.0968, Train F1 Score: 0.9957, Test Loss: 3.9070, Test F1 Score: 0.9629\n",
      "Epoch 273, Train Loss: 4.0962, Train F1 Score: 0.9957, Test Loss: 3.9068, Test F1 Score: 0.9629\n",
      "Epoch 274, Train Loss: 4.0957, Train F1 Score: 0.9957, Test Loss: 3.9065, Test F1 Score: 0.9629\n",
      "Epoch 275, Train Loss: 4.0951, Train F1 Score: 0.9957, Test Loss: 3.9063, Test F1 Score: 0.9629\n",
      "Epoch 276, Train Loss: 4.0946, Train F1 Score: 0.9957, Test Loss: 3.9061, Test F1 Score: 0.9629\n",
      "Epoch 277, Train Loss: 4.0941, Train F1 Score: 0.9957, Test Loss: 3.9059, Test F1 Score: 0.9629\n",
      "Epoch 278, Train Loss: 4.0935, Train F1 Score: 0.9957, Test Loss: 3.9056, Test F1 Score: 0.9629\n",
      "Epoch 279, Train Loss: 4.0930, Train F1 Score: 0.9964, Test Loss: 3.9054, Test F1 Score: 0.9629\n",
      "Epoch 280, Train Loss: 4.0925, Train F1 Score: 0.9964, Test Loss: 3.9052, Test F1 Score: 0.9629\n",
      "Epoch 281, Train Loss: 4.0920, Train F1 Score: 0.9964, Test Loss: 3.9050, Test F1 Score: 0.9629\n",
      "Epoch 282, Train Loss: 4.0914, Train F1 Score: 0.9964, Test Loss: 3.9048, Test F1 Score: 0.9629\n",
      "Epoch 283, Train Loss: 4.0909, Train F1 Score: 0.9964, Test Loss: 3.9046, Test F1 Score: 0.9629\n",
      "Epoch 284, Train Loss: 4.0904, Train F1 Score: 0.9964, Test Loss: 3.9044, Test F1 Score: 0.9629\n",
      "Epoch 285, Train Loss: 4.0899, Train F1 Score: 0.9964, Test Loss: 3.9043, Test F1 Score: 0.9648\n",
      "Epoch 286, Train Loss: 4.0894, Train F1 Score: 0.9964, Test Loss: 3.9041, Test F1 Score: 0.9648\n",
      "Epoch 287, Train Loss: 4.0889, Train F1 Score: 0.9964, Test Loss: 3.9039, Test F1 Score: 0.9629\n",
      "Epoch 288, Train Loss: 4.0884, Train F1 Score: 0.9964, Test Loss: 3.9037, Test F1 Score: 0.9629\n",
      "Epoch 289, Train Loss: 4.0879, Train F1 Score: 0.9964, Test Loss: 3.9036, Test F1 Score: 0.9629\n",
      "Epoch 290, Train Loss: 4.0874, Train F1 Score: 0.9964, Test Loss: 3.9034, Test F1 Score: 0.9629\n",
      "Epoch 291, Train Loss: 4.0870, Train F1 Score: 0.9964, Test Loss: 3.9033, Test F1 Score: 0.9629\n",
      "Epoch 292, Train Loss: 4.0865, Train F1 Score: 0.9964, Test Loss: 3.9031, Test F1 Score: 0.9629\n",
      "Epoch 293, Train Loss: 4.0860, Train F1 Score: 0.9964, Test Loss: 3.9030, Test F1 Score: 0.9629\n",
      "Epoch 294, Train Loss: 4.0855, Train F1 Score: 0.9964, Test Loss: 3.9028, Test F1 Score: 0.9629\n",
      "Epoch 295, Train Loss: 4.0850, Train F1 Score: 0.9964, Test Loss: 3.9027, Test F1 Score: 0.9629\n",
      "Epoch 296, Train Loss: 4.0846, Train F1 Score: 0.9964, Test Loss: 3.9026, Test F1 Score: 0.9629\n",
      "Epoch 297, Train Loss: 4.0841, Train F1 Score: 0.9964, Test Loss: 3.9024, Test F1 Score: 0.9629\n",
      "Epoch 298, Train Loss: 4.0836, Train F1 Score: 0.9964, Test Loss: 3.9023, Test F1 Score: 0.9629\n",
      "Epoch 299, Train Loss: 4.0832, Train F1 Score: 0.9964, Test Loss: 3.9022, Test F1 Score: 0.9648\n"
     ]
    }
   ],
   "source": [
    "trainer = DigitsTrainer(num_epochs=300, learning_rate=1e-3)\n",
    "trainer.fit(train_data=train_data, test_data=test_data)"
   ]
  },
  {
   "cell_type": "markdown",
   "source": [
    "# Check results"
   ],
   "metadata": {
    "collapsed": false,
    "pycharm": {
     "name": "#%% md\n"
    }
   }
  },
  {
   "cell_type": "code",
   "execution_count": 10,
   "outputs": [
    {
     "name": "stdout",
     "output_type": "stream",
     "text": [
      "Predicted: 6, Correct: 6\n"
     ]
    },
    {
     "data": {
      "text/plain": "<Figure size 640x480 with 1 Axes>",
      "image/png": "[encoded data removed]"
     },
     "metadata": {},
     "output_type": "display_data"
    },
    {
     "name": "stdout",
     "output_type": "stream",
     "text": [
      "Predicted: 4, Correct: 4\n"
     ]
    },
    {
     "data": {
      "text/plain": "<Figure size 640x480 with 1 Axes>",
      "image/png": "[encoded data removed]"
     },
     "metadata": {},
     "output_type": "display_data"
    },
    {
     "name": "stdout",
     "output_type": "stream",
     "text": [
      "Predicted: 3, Correct: 3\n"
     ]
    },
    {
     "data": {
      "text/plain": "<Figure size 640x480 with 1 Axes>",
      "image/png": "[encoded data removed]"
     },
     "metadata": {},
     "output_type": "display_data"
    },
    {
     "name": "stdout",
     "output_type": "stream",
     "text": [
      "Predicted: 6, Correct: 6\n"
     ]
    },
    {
     "data": {
      "text/plain": "<Figure size 640x480 with 1 Axes>",
      "image/png": "[encoded data removed]"
     },
     "metadata": {},
     "output_type": "display_data"
    },
    {
     "name": "stdout",
     "output_type": "stream",
     "text": [
      "Predicted: 7, Correct: 7\n"
     ]
    },
    {
     "data": {
      "text/plain": "<Figure size 640x480 with 1 Axes>",
      "image/png": "[encoded data removed]"
     },
     "metadata": {},
     "output_type": "display_data"
    }
   ],
   "source": [
    "num_images = 5\n",
    "test_images, test_labels = test_data[0][0][:num_images], test_data[0][1][:num_images]\n",
    "for image, label in zip(test_images, test_labels):\n",
    "    as_batch = Tensor(image.reshape(1,-1))\n",
    "    pred = trainer.model.predict(as_batch)[0].item()\n",
    "    print(f\"Predicted: {pred}, Correct: {np.argmax(label)}\")\n",
    "    plt.imshow(image.reshape(8,8), interpolation='nearest')\n",
    "    plt.show()"
   ],
   "metadata": {
    "collapsed": false,
    "pycharm": {
     "name": "#%%\n"
    }
   }
  },
  {
   "cell_type": "markdown",
   "source": [
    "## Run pytest"
   ],
   "metadata": {
    "collapsed": false,
    "pycharm": {
     "name": "#%% md\n"
    }
   }
  },
  {
   "cell_type": "code",
   "execution_count": 11,
   "outputs": [
    {
     "name": "stdout",
     "output_type": "stream",
     "text": [
      "\u001B[1m============================= test session starts ==============================\u001B[0m\r\n",
      "platform darwin -- Python 3.8.16, pytest-7.3.0, pluggy-1.0.0\r\n",
      "rootdir: /Users/LTV/dev/autograd\r\n",
      "collected 6 items                                                              \u001B[0m\r\n",
      "\r\n",
      "tests/test_grads.py \u001B[32m.\u001B[0m\u001B[32m.\u001B[0m\u001B[32m.\u001B[0m\u001B[32m.\u001B[0m\u001B[32m                                                 [ 66%]\u001B[0m\r\n",
      "tests/test_model_trainer.py \u001B[32m.\u001B[0m\u001B[32m                                            [ 83%]\u001B[0m\r\n",
      "tests/test_ops.py \u001B[32m.\u001B[0m\u001B[32m                                                      [100%]\u001B[0m\r\n",
      "\r\n",
      "\u001B[33m=============================== warnings summary ===============================\u001B[0m\r\n",
      "tests/test_ops.py::test_ops\r\n",
      "  /Users/LTV/dev/autograd/tests/test_ops.py:39: RuntimeWarning: invalid value encountered in log\r\n",
      "    Tensor.log: {\"ans\": [Tensor(np.log(a.data))]},\r\n",
      "\r\n",
      "tests/test_ops.py::test_ops\r\n",
      "  /Users/LTV/dev/autograd/tensor.py:71: RuntimeWarning: invalid value encountered in log\r\n",
      "    new_tensor = Tensor(np_op(*np_args, **kwargs))\r\n",
      "\r\n",
      "-- Docs: https://docs.pytest.org/en/stable/how-to/capture-warnings.html\r\n",
      "\u001B[33m======================== \u001B[32m6 passed\u001B[0m, \u001B[33m\u001B[1m2 warnings\u001B[0m\u001B[33m in 2.89s\u001B[0m\u001B[33m =========================\u001B[0m\r\n"
     ]
    }
   ],
   "source": [
    "!pytest ."
   ],
   "metadata": {
    "collapsed": false,
    "pycharm": {
     "name": "#%%\n"
    }
   }
  },
  {
   "cell_type": "markdown",
   "source": [
    "## Run mypy"
   ],
   "metadata": {
    "collapsed": false,
    "pycharm": {
     "name": "#%% md\n"
    }
   }
  },
  {
   "cell_type": "code",
   "source": [
    "!mypy activations_and_loss.py backprop.py backward_ops.py finite_diff.py modules.py tensor.py"
   ],
   "metadata": {
    "collapsed": false,
    "pycharm": {
     "name": "#%%\n"
    }
   },
   "execution_count": 12,
   "outputs": [
    {
     "name": "stdout",
     "output_type": "stream",
     "text": [
      "\u001B[1m\u001B[32mSuccess: no issues found in 6 source files\u001B[m\r\n"
     ]
    }
   ]
  },
  {
   "cell_type": "markdown",
   "source": [
    "## Examples of catching incorrect types"
   ],
   "metadata": {
    "collapsed": false,
    "pycharm": {
     "name": "#%% md\n"
    }
   }
  },
  {
   "cell_type": "code",
   "execution_count": 13,
   "outputs": [
    {
     "name": "stdout",
     "output_type": "stream",
     "text": [
      "mypy_errors.py:7: \u001B[1m\u001B[31merror:\u001B[m Argument 1 to \u001B[m\u001B[1m\"Tensor\"\u001B[m has incompatible type \u001B[m\u001B[1m\"int\"\u001B[m; expected \u001B[m\u001B[1m\"Union[ndarray[Any, dtype[signedinteger[_32Bit]]], ndarray[Any, dtype[signedinteger[_64Bit]]], ndarray[Any, dtype[bool_]], ndarray[Any, dtype[floating[_32Bit]]], ndarray[Any, dtype[floating[_64Bit]]]]\"\u001B[m  \u001B[m\u001B[33m[arg-type]\u001B[m\r\n",
      "mypy_errors.py:8: \u001B[1m\u001B[31merror:\u001B[m Argument 1 to \u001B[m\u001B[1m\"Tensor\"\u001B[m has incompatible type \u001B[m\u001B[1m\"float\"\u001B[m; expected \u001B[m\u001B[1m\"Union[ndarray[Any, dtype[signedinteger[_32Bit]]], ndarray[Any, dtype[signedinteger[_64Bit]]], ndarray[Any, dtype[bool_]], ndarray[Any, dtype[floating[_32Bit]]], ndarray[Any, dtype[floating[_64Bit]]]]\"\u001B[m  \u001B[m\u001B[33m[arg-type]\u001B[m\r\n",
      "mypy_errors.py:9: \u001B[1m\u001B[31merror:\u001B[m Argument 1 to \u001B[m\u001B[1m\"Tensor\"\u001B[m has incompatible type \u001B[m\u001B[1m\"bool\"\u001B[m; expected \u001B[m\u001B[1m\"Union[ndarray[Any, dtype[signedinteger[_32Bit]]], ndarray[Any, dtype[signedinteger[_64Bit]]], ndarray[Any, dtype[bool_]], ndarray[Any, dtype[floating[_32Bit]]], ndarray[Any, dtype[floating[_64Bit]]]]\"\u001B[m  \u001B[m\u001B[33m[arg-type]\u001B[m\r\n",
      "mypy_errors.py:10: \u001B[1m\u001B[31merror:\u001B[m Argument 1 to \u001B[m\u001B[1m\"Tensor\"\u001B[m has incompatible type \u001B[m\u001B[1m\"ndarray[Any, dtype[object_]]\"\u001B[m; expected \u001B[m\u001B[1m\"Union[ndarray[Any, dtype[signedinteger[_32Bit]]], ndarray[Any, dtype[signedinteger[_64Bit]]], ndarray[Any, dtype[bool_]], ndarray[Any, dtype[floating[_32Bit]]], ndarray[Any, dtype[floating[_64Bit]]]]\"\u001B[m  \u001B[m\u001B[33m[arg-type]\u001B[m\r\n",
      "\u001B[1m\u001B[31mFound 4 errors in 1 file (checked 1 source file)\u001B[m\r\n"
     ]
    }
   ],
   "source": [
    "!mypy mypy_errors.py"
   ],
   "metadata": {
    "collapsed": false,
    "pycharm": {
     "name": "#%%\n"
    }
   }
  },
  {
   "cell_type": "markdown",
   "source": [
    "## Check gradients"
   ],
   "metadata": {
    "collapsed": false,
    "pycharm": {
     "name": "#%% md\n"
    }
   }
  },
  {
   "cell_type": "code",
   "execution_count": 14,
   "outputs": [],
   "source": [
    "from backprop import grad as bp_grad\n",
    "from finite_diff import finite_difference as fd_grad\n",
    "from tensor import make_parameter, no_grad\n",
    "\n",
    "\n",
    "def two_layers_nn(x, y, weights1, bias1, weights2, bias2):\n",
    "    x = sigmoid(x @ weights1 + bias1)\n",
    "    logits = x @ weights2 + bias2\n",
    "    loss = cross_entropy_loss(logits, y)\n",
    "    return loss.sum()\n",
    "\n",
    "one_image = Tensor(np.reshape(train_data[0][0][0], (1, -1)))\n",
    "one_label = Tensor(np.reshape(train_data[0][1][0], (1, -1)))\n",
    "weights1 = make_parameter(np.random.normal(size=(one_image.shape[1], 20)))\n",
    "bias1 = make_parameter(np.random.normal(size=(1, 20)))\n",
    "weights2 = make_parameter(np.random.normal(size=(20, one_label.shape[1])))\n",
    "bias2 = make_parameter(np.random.normal(size=(1, one_label.shape[1])))\n",
    "\n",
    "with no_grad():\n",
    "    fd_grads = fd_grad(1e-2, two_layers_nn, one_image, one_label, weights1, bias1, weights2, bias2)\n",
    "bp_grads = bp_grad(two_layers_nn, one_image, one_label, weights1, bias1, weights2, bias2)\n"
   ],
   "metadata": {
    "collapsed": false,
    "pycharm": {
     "name": "#%%\n"
    }
   }
  },
  {
   "cell_type": "code",
   "execution_count": 15,
   "outputs": [
    {
     "name": "stdout",
     "output_type": "stream",
     "text": [
      "No gradients for argument 0\n",
      "No gradients for argument 1\n",
      "For argument 2 maximum diff is 0.01151%, average diff 0.00090%\n",
      "For argument 3 maximum diff is 0.01151%, average diff 0.00210%\n",
      "For argument 4 maximum diff is 0.00166%, average diff 0.00046%\n",
      "For argument 5 maximum diff is 0.00167%, average diff 0.00118%\n"
     ]
    }
   ],
   "source": [
    "assert len(fd_grads) == len(bp_grads)\n",
    "for ind, (fd_grad, bp_grad) in enumerate(zip(fd_grads, bp_grads)):\n",
    "    if fd_grad is None:\n",
    "        assert bp_grad is None\n",
    "        print(f\"No gradients for argument {ind}\")\n",
    "        continue\n",
    "\n",
    "    non_zero_mask = fd_grad != 0.\n",
    "    fd_grad_ = fd_grad[non_zero_mask]\n",
    "    bp_grad_ = bp_grad[non_zero_mask]\n",
    "\n",
    "    diff = np.abs(fd_grad_ - bp_grad_) / np.abs(fd_grad_)\n",
    "    max_diff = np.max(diff)\n",
    "    mean_diff = np.mean(diff)\n",
    "\n",
    "    print(f\"For argument {ind} maximum diff is {max_diff*100:.5f}%, average diff {mean_diff*100:.5f}%\")"
   ],
   "metadata": {
    "collapsed": false,
    "pycharm": {
     "name": "#%%\n"
    }
   }
  },
  {
   "cell_type": "code",
   "execution_count": null,
   "outputs": [],
   "source": [],
   "metadata": {
    "collapsed": false,
    "pycharm": {
     "name": "#%%\n"
    }
   }
  }
 ],
 "metadata": {
  "kernelspec": {
   "display_name": "Python [conda env:autograd]",
   "language": "python",
   "name": "conda-env-autograd-py"
  },
  "language_info": {
   "codemirror_mode": {
    "name": "ipython",
    "version": 3
   },
   "file_extension": ".py",
   "mimetype": "text/x-python",
   "name": "python",
   "nbconvert_exporter": "python",
   "pygments_lexer": "ipython3",
   "version": "3.8.16"
  }
 },
 "nbformat": 4,
 "nbformat_minor": 4
}